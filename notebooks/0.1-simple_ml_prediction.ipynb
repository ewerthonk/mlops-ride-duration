{
 "cells": [
  {
   "cell_type": "markdown",
   "id": "454dc990-e3e7-4e7f-997e-cc31f1d6dbd6",
   "metadata": {},
   "source": [
    "# Setup"
   ]
  },
  {
   "cell_type": "code",
   "execution_count": 1,
   "id": "0d37629b-acd9-493e-9b2e-b6e0c3d01e3f",
   "metadata": {},
   "outputs": [],
   "source": [
    "import pandas as pd\n",
    "\n",
    "from sklearn.feature_extraction import DictVectorizer\n",
    "from sklearn.linear_model import LinearRegression\n",
    "from sklearn.metrics import root_mean_squared_error"
   ]
  },
  {
   "cell_type": "markdown",
   "id": "34846783-1958-4e9d-b1b5-aa69e50d631b",
   "metadata": {},
   "source": [
    "# Ingesting Data"
   ]
  },
  {
   "cell_type": "code",
   "execution_count": 2,
   "id": "f68be0c5-8e44-4a20-8dff-058a23daba33",
   "metadata": {},
   "outputs": [],
   "source": [
    "df_jan = pd.read_parquet(path=\"../data/yellow/yellow_tripdata_2023-01.parquet\")\n",
    "df_feb = pd.read_parquet(path=\"../data/yellow/yellow_tripdata_2023-02.parquet\")"
   ]
  },
  {
   "cell_type": "markdown",
   "id": "a2d4deca",
   "metadata": {},
   "source": [
    "# Questions"
   ]
  },
  {
   "cell_type": "code",
   "execution_count": 3,
   "id": "78752259",
   "metadata": {},
   "outputs": [
    {
     "name": "stdout",
     "output_type": "stream",
     "text": [
      "19 columns.\n"
     ]
    }
   ],
   "source": [
    "# Read the data for January. How many columns are there?\n",
    "_, number_of_cols = df_jan.shape\n",
    "print(f\"{number_of_cols} columns.\")"
   ]
  },
  {
   "cell_type": "code",
   "execution_count": 4,
   "id": "17ab38dd",
   "metadata": {},
   "outputs": [
    {
     "name": "stdout",
     "output_type": "stream",
     "text": [
      "Standard deviation of 42.\n"
     ]
    }
   ],
   "source": [
    "# What's the standard deviation of the trips duration in January?\n",
    "df_jan = df_jan.assign(duration=df_jan[\"tpep_dropoff_datetime\"].sub(df_jan[\"tpep_pickup_datetime\"]).dt.seconds.div(60))\n",
    "print(f\"Standard deviation of {df_jan['duration'].std():.0f}.\")"
   ]
  },
  {
   "cell_type": "code",
   "execution_count": 5,
   "id": "eba5e957",
   "metadata": {},
   "outputs": [
    {
     "name": "stdout",
     "output_type": "stream",
     "text": [
      "98%.\n"
     ]
    }
   ],
   "source": [
    "# What fraction of the records left after you dropped the outliers? (1min to 60min trips [inclusive])\n",
    "fraction_without_outliers = len(df_jan.loc[df_jan[\"duration\"].between(1,60), :]) / len(df_jan)\n",
    "df_jan = df_jan.loc[df_jan[\"duration\"].between(1,60), :]\n",
    "print(f\"{fraction_without_outliers*100:.0f}%.\")"
   ]
  },
  {
   "cell_type": "code",
   "execution_count": 6,
   "id": "cba02014",
   "metadata": {},
   "outputs": [
    {
     "name": "stdout",
     "output_type": "stream",
     "text": [
      "515 columns.\n"
     ]
    }
   ],
   "source": [
    "# What's the dimensionality of this matrix (number of columns)?\n",
    "# Only use pickup and dropoff location IDs features\n",
    "# Turn the dataframe into a list of dictionaries - not my favorite way but let's do it\n",
    "train_dicts = df_jan.loc[:, [\"PULocationID\", \"DOLocationID\"]].astype(str).to_dict(orient=\"records\")\n",
    "\n",
    "dict_vectorizer = DictVectorizer()\n",
    "\n",
    "X_train = dict_vectorizer.fit_transform(train_dicts)\n",
    "y_train = df_jan.loc[:, \"duration\"].values\n",
    "\n",
    "_, X_train_dimensionality = X_train.shape\n",
    "print(f\"{X_train_dimensionality} columns.\")"
   ]
  },
  {
   "cell_type": "code",
   "execution_count": 7,
   "id": "32c5f2a6",
   "metadata": {},
   "outputs": [
    {
     "name": "stdout",
     "output_type": "stream",
     "text": [
      "RMSE: 7.65\n"
     ]
    }
   ],
   "source": [
    "# Train a plain linear regression model with default parameters\n",
    "# Calculate the RMSE of the model on the training data\n",
    "model = LinearRegression()\n",
    "model.fit(X_train, y_train)\n",
    "print(f\"RMSE: {root_mean_squared_error(y_train, model.predict(X_train)):.2f}\")"
   ]
  },
  {
   "cell_type": "code",
   "execution_count": 9,
   "id": "94fd6e37",
   "metadata": {},
   "outputs": [
    {
     "name": "stdout",
     "output_type": "stream",
     "text": [
      "RMSE: 7.81.\n"
     ]
    }
   ],
   "source": [
    "# Apply model to validation set. What is the RMSE?\n",
    "df_feb = (\n",
    "    df_feb\n",
    "    .assign(duration=df_feb[\"tpep_dropoff_datetime\"].sub(df_feb[\"tpep_pickup_datetime\"]).dt.seconds.div(60))\n",
    "    .loc[lambda df: df[\"duration\"].between(1,60), :]\n",
    ")\n",
    "\n",
    "val_dicts = df_feb.loc[:, [\"PULocationID\", \"DOLocationID\"]].astype(str).to_dict(orient=\"records\")\n",
    "\n",
    "X_val = dict_vectorizer.transform(val_dicts)\n",
    "y_val = df_feb[\"duration\"].values\n",
    "\n",
    "print(f\"RMSE: {root_mean_squared_error(y_val, model.predict(X_val)):.2f}.\")"
   ]
  }
 ],
 "metadata": {
  "kernelspec": {
   "display_name": "Python 3 (ipykernel)",
   "language": "python",
   "name": "python3"
  },
  "language_info": {
   "codemirror_mode": {
    "name": "ipython",
    "version": 3
   },
   "file_extension": ".py",
   "mimetype": "text/x-python",
   "name": "python",
   "nbconvert_exporter": "python",
   "pygments_lexer": "ipython3",
   "version": "3.10.13"
  }
 },
 "nbformat": 4,
 "nbformat_minor": 5
}
